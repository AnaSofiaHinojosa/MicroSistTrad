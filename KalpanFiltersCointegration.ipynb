{
 "cells": [
  {
   "cell_type": "markdown",
   "id": "3ff1006e",
   "metadata": {},
   "source": [
    "## Kalman Filters and Cointegration\n",
    "### Dynamic Spread Strategies in Pairs Trading"
   ]
  }
 ],
 "metadata": {
  "language_info": {
   "name": "python"
  }
 },
 "nbformat": 4,
 "nbformat_minor": 5
}
