{
 "cells": [
  {
   "cell_type": "markdown",
   "id": "737bc1fe",
   "metadata": {},
   "source": [
    "# Market Microstructure Project"
   ]
  },
  {
   "cell_type": "markdown",
   "id": "a0b4d23e",
   "metadata": {},
   "source": [
    "$$\n",
    "f(S)\n",
    "\\pi_{LB} = Prob \\; Liq. \\; Buy \\\\\n",
    "\\pi_{LS} = Prob \\; Liq. \\; Sell \\\\\n",
    "\\pi_{I} = Prob \\; Informed \\; Trade \\\\\n",
    "$$"
   ]
  },
  {
   "cell_type": "markdown",
   "id": "73247d5c",
   "metadata": {},
   "source": [
    "$$\n",
    "U = \\pi_{LB}(A-S_0) + \\pi_{LS}(S_0-B)\n",
    "$$"
   ]
  },
  {
   "cell_type": "markdown",
   "id": "975b0f5c",
   "metadata": {},
   "source": [
    "$$\n",
    "L = [ \\int_{A}^{\\infty}f(s)(S-A)dS + \\int_{0}^{B}f(s)(B-A)dS ]\\pi_I\n",
    "$$"
   ]
  },
  {
   "cell_type": "markdown",
   "id": "40c855a8",
   "metadata": {},
   "source": [
    "$$\n",
    "\\max_{B,A}(1-\\pi_I)[\\pi_{LB}]\n",
    "$$"
   ]
  },
  {
   "cell_type": "markdown",
   "id": "58833cab",
   "metadata": {},
   "source": [
    "DISTR ERLANG TOPA CON .16"
   ]
  },
  {
   "cell_type": "markdown",
   "id": "36209a09",
   "metadata": {},
   "source": [
    "CREAR PROPIA FUNCION DE DENSIDAD. WIKIPEDIA -> BUSCAR PDF"
   ]
  }
 ],
 "metadata": {
  "kernelspec": {
   "display_name": "Python 3",
   "language": "python",
   "name": "python3"
  },
  "language_info": {
   "codemirror_mode": {
    "name": "ipython",
    "version": 3
   },
   "file_extension": ".py",
   "mimetype": "text/x-python",
   "name": "python",
   "nbconvert_exporter": "python",
   "pygments_lexer": "ipython3",
   "version": "3.9.6"
  }
 },
 "nbformat": 4,
 "nbformat_minor": 5
}
