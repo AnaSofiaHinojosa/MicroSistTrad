{
 "cells": [
  {
   "cell_type": "markdown",
   "id": "4fcf5f0d",
   "metadata": {},
   "source": [
    "## Backtesting "
   ]
  },
  {
   "cell_type": "markdown",
   "id": "4563f612",
   "metadata": {},
   "source": [
    "- Trades at close\n",
    "- Commission = 0.125%\n",
    "- SL = TP = 5%\n",
    "- Cash = 1 M\n",
    "- N Shares = 50\n",
    "- No taxes\n",
    "- No leverages\n",
    "- Margin acc = 50%\n",
    "- Borrow rate = 0.25%\n",
    "- Time frame = 5 m"
   ]
  },
  {
   "cell_type": "code",
   "execution_count": 24,
   "id": "9e7e0f07",
   "metadata": {},
   "outputs": [
    {
     "name": "stderr",
     "output_type": "stream",
     "text": [
      "/Users/sofia/Library/Python/3.9/lib/python/site-packages/tqdm/auto.py:21: TqdmWarning: IProgress not found. Please update jupyter and ipywidgets. See https://ipywidgets.readthedocs.io/en/stable/user_install.html\n",
      "  from .autonotebook import tqdm as notebook_tqdm\n"
     ]
    }
   ],
   "source": [
    "import pandas as pd\n",
    "import matplotlib.pyplot as plt\n",
    "import seaborn as sns\n",
    "import ta\n",
    "from dataclasses import dataclass\n",
    "import optuna\n",
    "\n",
    "sns.set_theme()"
   ]
  },
  {
   "cell_type": "code",
   "execution_count": 18,
   "id": "21f51b12",
   "metadata": {},
   "outputs": [
    {
     "data": {
      "text/html": [
       "<div>\n",
       "<style scoped>\n",
       "    .dataframe tbody tr th:only-of-type {\n",
       "        vertical-align: middle;\n",
       "    }\n",
       "\n",
       "    .dataframe tbody tr th {\n",
       "        vertical-align: top;\n",
       "    }\n",
       "\n",
       "    .dataframe thead th {\n",
       "        text-align: right;\n",
       "    }\n",
       "</style>\n",
       "<table border=\"1\" class=\"dataframe\">\n",
       "  <thead>\n",
       "    <tr style=\"text-align: right;\">\n",
       "      <th></th>\n",
       "      <th>Unnamed: 0</th>\n",
       "      <th>Timestamp</th>\n",
       "      <th>Gmtoffset</th>\n",
       "      <th>Datetime</th>\n",
       "      <th>Open</th>\n",
       "      <th>High</th>\n",
       "      <th>Low</th>\n",
       "      <th>Close</th>\n",
       "      <th>Volume</th>\n",
       "    </tr>\n",
       "  </thead>\n",
       "  <tbody>\n",
       "    <tr>\n",
       "      <th>0</th>\n",
       "      <td>0</td>\n",
       "      <td>1609770600</td>\n",
       "      <td>0</td>\n",
       "      <td>2021-01-04 14:30:00</td>\n",
       "      <td>133.570007</td>\n",
       "      <td>133.611602</td>\n",
       "      <td>132.389999</td>\n",
       "      <td>132.809997</td>\n",
       "      <td>6624663.0</td>\n",
       "    </tr>\n",
       "    <tr>\n",
       "      <th>1</th>\n",
       "      <td>1</td>\n",
       "      <td>1609770900</td>\n",
       "      <td>0</td>\n",
       "      <td>2021-01-04 14:35:00</td>\n",
       "      <td>132.750000</td>\n",
       "      <td>132.750000</td>\n",
       "      <td>131.809997</td>\n",
       "      <td>131.889999</td>\n",
       "      <td>2541553.0</td>\n",
       "    </tr>\n",
       "    <tr>\n",
       "      <th>2</th>\n",
       "      <td>2</td>\n",
       "      <td>1609771200</td>\n",
       "      <td>0</td>\n",
       "      <td>2021-01-04 14:40:00</td>\n",
       "      <td>131.500000</td>\n",
       "      <td>132.339996</td>\n",
       "      <td>131.500000</td>\n",
       "      <td>132.059997</td>\n",
       "      <td>2492415.0</td>\n",
       "    </tr>\n",
       "    <tr>\n",
       "      <th>3</th>\n",
       "      <td>3</td>\n",
       "      <td>1609771500</td>\n",
       "      <td>0</td>\n",
       "      <td>2021-01-04 14:45:00</td>\n",
       "      <td>132.000000</td>\n",
       "      <td>132.250000</td>\n",
       "      <td>131.899993</td>\n",
       "      <td>132.250000</td>\n",
       "      <td>1859131.0</td>\n",
       "    </tr>\n",
       "    <tr>\n",
       "      <th>4</th>\n",
       "      <td>4</td>\n",
       "      <td>1609771800</td>\n",
       "      <td>0</td>\n",
       "      <td>2021-01-04 14:50:00</td>\n",
       "      <td>132.000000</td>\n",
       "      <td>132.018096</td>\n",
       "      <td>131.520004</td>\n",
       "      <td>131.589996</td>\n",
       "      <td>1780105.0</td>\n",
       "    </tr>\n",
       "  </tbody>\n",
       "</table>\n",
       "</div>"
      ],
      "text/plain": [
       "   Unnamed: 0   Timestamp  Gmtoffset             Datetime        Open  \\\n",
       "0           0  1609770600          0  2021-01-04 14:30:00  133.570007   \n",
       "1           1  1609770900          0  2021-01-04 14:35:00  132.750000   \n",
       "2           2  1609771200          0  2021-01-04 14:40:00  131.500000   \n",
       "3           3  1609771500          0  2021-01-04 14:45:00  132.000000   \n",
       "4           4  1609771800          0  2021-01-04 14:50:00  132.000000   \n",
       "\n",
       "         High         Low       Close     Volume  \n",
       "0  133.611602  132.389999  132.809997  6624663.0  \n",
       "1  132.750000  131.809997  131.889999  2541553.0  \n",
       "2  132.339996  131.500000  132.059997  2492415.0  \n",
       "3  132.250000  131.899993  132.250000  1859131.0  \n",
       "4  132.018096  131.520004  131.589996  1780105.0  "
      ]
     },
     "execution_count": 18,
     "metadata": {},
     "output_type": "execute_result"
    }
   ],
   "source": [
    "data = pd.read_csv('aapl_5m_train.csv').dropna()\n",
    "data.head()"
   ]
  },
  {
   "cell_type": "code",
   "execution_count": 19,
   "id": "fe415636",
   "metadata": {},
   "outputs": [],
   "source": [
    "rsi_indicator = ta.momentum.RSIIndicator(data.Close, window=20)\n",
    "data['rsi'] = rsi_indicator.rsi()"
   ]
  },
  {
   "cell_type": "code",
   "execution_count": 20,
   "id": "cf98e67e",
   "metadata": {},
   "outputs": [
    {
     "name": "stderr",
     "output_type": "stream",
     "text": [
      "/var/folders/39/pg899vtj5774718bjd1zhn6m0000gn/T/ipykernel_29397/1825628898.py:2: SettingWithCopyWarning: \n",
      "A value is trying to be set on a copy of a slice from a DataFrame.\n",
      "Try using .loc[row_indexer,col_indexer] = value instead\n",
      "\n",
      "See the caveats in the documentation: https://pandas.pydata.org/pandas-docs/stable/user_guide/indexing.html#returning-a-view-versus-a-copy\n",
      "  historic['buy_signal'] = historic[\"rsi\"] < 20\n",
      "/var/folders/39/pg899vtj5774718bjd1zhn6m0000gn/T/ipykernel_29397/1825628898.py:3: SettingWithCopyWarning: \n",
      "A value is trying to be set on a copy of a slice from a DataFrame.\n",
      "Try using .loc[row_indexer,col_indexer] = value instead\n",
      "\n",
      "See the caveats in the documentation: https://pandas.pydata.org/pandas-docs/stable/user_guide/indexing.html#returning-a-view-versus-a-copy\n",
      "  historic['sell_signal'] = historic[\"rsi\"] > 80\n"
     ]
    }
   ],
   "source": [
    "historic = data.dropna()\n",
    "historic['buy_signal'] = historic[\"rsi\"] < 20\n",
    "historic['sell_signal'] = historic[\"rsi\"] > 80"
   ]
  },
  {
   "cell_type": "code",
   "execution_count": 21,
   "id": "e0396dde",
   "metadata": {},
   "outputs": [],
   "source": [
    "def get_portfolio_value(cash: float, long_ops: list[Operation], short_ops: list[Operation], \n",
    "                        current_price: float, n_shares: int) -> float:\n",
    "   \n",
    "    val = cash \n",
    "\n",
    "    # Add long position values\n",
    "    val += len(long_ops) * current_price * n_shares \n",
    "\n",
    "    # Add short position values\n",
    "\n",
    "    return val"
   ]
  },
  {
   "cell_type": "code",
   "execution_count": 22,
   "id": "75c9599c",
   "metadata": {},
   "outputs": [],
   "source": [
    "COM = 0.125 / 100\n",
    "SL = 0.1\n",
    "TP = 0.1\n",
    "BORROW_RATE = 0.25 / 100\n",
    "\n",
    "cash = 1_000_000\n",
    "n_shares = 200\n",
    "\n",
    "active_long_positions: list[Operation] = []\n",
    "\n",
    "portfolio_value = [cash]\n",
    "\n",
    "for i, row in historic.iterrows():\n",
    "    # This only works for long positions\n",
    "    \n",
    "    # Close positions\n",
    "    for position in active_long_positions.copy():\n",
    "        if row.Close > position.take_profit or row.Close < position.stop_loss:\n",
    "            cash += row.Close * position.n_shares * (1 - COM)\n",
    "            active_long_positions.remove(position)\n",
    "    # --- BUY ---\n",
    "    # Check signal\n",
    "    if not row.buy_signal:\n",
    "        portfolio_value.append(get_portfolio_value(cash, active_long_positions, [], row.Close, n_shares))\n",
    "        continue\n",
    "    # Do we have enough cash?\n",
    "    if cash < row.Close * n_shares * (1 + COM):\n",
    "        portfolio_value.append(get_portfolio_value(cash, active_long_positions, [], row.Close, n_shares))\n",
    "        continue\n",
    "    # Discount the cost\n",
    "    cash -= row.Close * n_shares * (1 + COM)\n",
    "    # Save the operation as active position\n",
    "    active_long_positions.append(\n",
    "        Operation(\n",
    "        time=row.Datetime,\n",
    "        price=row.Close,\n",
    "        take_profit=row.Close * (1 + TP),\n",
    "        stop_loss=row.Close * (1 - SL),\n",
    "        n_shares=n_shares,\n",
    "        type=\"LONG\"\n",
    "        )\n",
    "    )\n",
    "\n",
    "    portfolio_value.append(get_portfolio_value(cash, active_long_positions, [], row.Close, n_shares))\n",
    "\n",
    "cash += row.Close * len(active_long_positions) * n_shares * (1 - COM)\n",
    "active_long_positions = []"
   ]
  },
  {
   "cell_type": "code",
   "execution_count": 23,
   "id": "71596aae",
   "metadata": {},
   "outputs": [
    {
     "data": {
      "text/plain": [
       "(1175409.6117202505, 0)"
      ]
     },
     "execution_count": 23,
     "metadata": {},
     "output_type": "execute_result"
    }
   ],
   "source": [
    "cash, len(active_long_positions)"
   ]
  }
 ],
 "metadata": {
  "kernelspec": {
   "display_name": "Python 3",
   "language": "python",
   "name": "python3"
  },
  "language_info": {
   "codemirror_mode": {
    "name": "ipython",
    "version": 3
   },
   "file_extension": ".py",
   "mimetype": "text/x-python",
   "name": "python",
   "nbconvert_exporter": "python",
   "pygments_lexer": "ipython3",
   "version": "3.9.6"
  }
 },
 "nbformat": 4,
 "nbformat_minor": 5
}
