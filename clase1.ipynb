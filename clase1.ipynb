{
 "cells": [
  {
   "cell_type": "markdown",
   "id": "b9d54bbe",
   "metadata": {},
   "source": [
    "# Microestructura de mercado\n",
    "## Microestructura y sistemas de trading\n",
    "### Ana Sofía Hinojosa Bale"
   ]
  },
  {
   "cell_type": "markdown",
   "id": "e40fec77",
   "metadata": {},
   "source": []
  },
  {
   "cell_type": "markdown",
   "id": "b1beab33",
   "metadata": {},
   "source": []
  }
 ],
 "metadata": {
  "language_info": {
   "name": "python"
  }
 },
 "nbformat": 4,
 "nbformat_minor": 5
}
