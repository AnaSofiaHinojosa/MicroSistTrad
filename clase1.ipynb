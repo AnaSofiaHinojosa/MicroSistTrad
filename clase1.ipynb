{
 "cells": [
  {
   "cell_type": "markdown",
   "id": "b9d54bbe",
   "metadata": {},
   "source": [
    "# Microestructura de mercado\n",
    "## Microestructura y sistemas de trading\n",
    "### Ana Sofía Hinojosa Bale"
   ]
  },
  {
   "cell_type": "markdown",
   "id": "e40fec77",
   "metadata": {},
   "source": [
    "Previos: \n",
    "\n",
    "- Movimiento browniano\n",
    "- Simulación montecarlo\n",
    "- No se puede derivar, aunque sea continua. Se diferencia.\n",
    "- Cálculo de Itô en procesos estocásticos.\n",
    "- Lema de Itô:  $lim \\;dt \\rightarrow 0$\n",
    "- Fórmula de Black-Scholes $ dS_t = \\mu S_t\\,dt + \\sigma S_t\\,dW_t $ (asume demasiadas cosas $\\rightarrow$ no funciona)"
   ]
  },
  {
   "cell_type": "markdown",
   "id": "650bf906",
   "metadata": {},
   "source": []
  },
  {
   "cell_type": "markdown",
   "id": "ee6fb548",
   "metadata": {},
   "source": []
  },
  {
   "cell_type": "markdown",
   "id": "f6f4b22c",
   "metadata": {},
   "source": []
  },
  {
   "cell_type": "markdown",
   "id": "0abc665b",
   "metadata": {},
   "source": []
  },
  {
   "cell_type": "markdown",
   "id": "7bcf348c",
   "metadata": {},
   "source": []
  },
  {
   "cell_type": "markdown",
   "id": "5770291f",
   "metadata": {},
   "source": []
  },
  {
   "cell_type": "markdown",
   "id": "12a08769",
   "metadata": {},
   "source": []
  },
  {
   "cell_type": "markdown",
   "id": "58bb6f5a",
   "metadata": {},
   "source": []
  },
  {
   "cell_type": "markdown",
   "id": "a6fcf9d4",
   "metadata": {},
   "source": []
  },
  {
   "cell_type": "markdown",
   "id": "34cdfc06",
   "metadata": {},
   "source": []
  },
  {
   "cell_type": "markdown",
   "id": "25fb5920",
   "metadata": {},
   "source": []
  },
  {
   "cell_type": "markdown",
   "id": "e2a45b52",
   "metadata": {},
   "source": []
  },
  {
   "cell_type": "markdown",
   "id": "f3ec14c1",
   "metadata": {},
   "source": []
  },
  {
   "cell_type": "markdown",
   "id": "b1beab33",
   "metadata": {},
   "source": []
  }
 ],
 "metadata": {
  "language_info": {
   "name": "python"
  }
 },
 "nbformat": 4,
 "nbformat_minor": 5
}
