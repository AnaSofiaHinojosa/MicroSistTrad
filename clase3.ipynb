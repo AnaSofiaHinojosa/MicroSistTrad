{
 "cells": [
  {
   "cell_type": "markdown",
   "id": "cb1d4267",
   "metadata": {},
   "source": [
    "# Technical analysis: Introduction\n",
    "\n",
    "09/09/25"
   ]
  },
  {
   "cell_type": "markdown",
   "id": "e27e773d",
   "metadata": {},
   "source": [
    "Introduction:\n",
    "\n",
    "- Technical analysis is a method used by traders and investors to evaluate financial markets and make trading decisions based on historical price data, market trends, and various technical indicators.\n",
    "\n",
    "- It focuses on studying past market behavior to predict future price movements and identify potential trading opportunities.\n",
    "\n",
    "Principles:\n",
    "\n",
    "- The core principle of technical analysis is that historical price patterns, trends, and market psychology can provide valuable insights into the future direction of prices.\n",
    "\n",
    "- Rather than analyzing fundamental factors like company financials or economic indicators, technical analysts primarily rely on charts, price patterns, and statistical tools.\n",
    "\n",
    "Key components:\n",
    "\n",
    "- Price charts: Technical analysis often involves examining price charts that display historical price movements over a specific timeframe. Common types of charts include line charts, bar charts, and candlestick charts.\n",
    "\n",
    "- Trends: Technical analysts analyze price trends, which can be classified as uptrends (higher highs and higher lows), downtrends (lower highs and lower lows), or sideways trends (range-bound markets).\n",
    "\n",
    "- Support and resistance levels: Support levels are price levels at which buying interest is expected to emerge and potentially prevent further price declines. Resistance levels, on the other hand, are price levels at which selling pressure is expected to increase, potentially preventing further price increases.\n",
    "\n",
    "- Technical indicators: These are mathematical calculations based on price and volume data that help identify patterns, trends, and potential reversals."
   ]
  },
  {
   "cell_type": "markdown",
   "id": "3f0da126",
   "metadata": {},
   "source": [
    "# Technical analysis: Overlays & oscillators"
   ]
  },
  {
   "cell_type": "markdown",
   "id": "1f8a8bc5",
   "metadata": {},
   "source": [
    "Overlays:\n",
    "\n",
    "- Overlay indicators, also known as price-based indicators, are technical analysis tools that are plotted directly on the price chart. Unlike oscillators that appear in a separate window or panel below the price chart, overlay indicators are displayed directly on the same chart as the price action.\n",
    "\n",
    "- They help traders analyze price movements, trends, and potential trading signals without the need to switch between different chart windows or panels.\n",
    "\n",
    "    - Moving Averages (MA):\n",
    "\n",
    "        - Moving averages are frequently used as overlay indicators. They smooth out price fluctuations and help identify trends by calculating the average price over a specified period.\n",
    "\n",
    "        - Moving averages can provide support and resistance levels and generate trading signals when the price crosses above or below the moving average line.\n",
    "\n",
    "        - $SMA=\\frac{P_1+P_2+...+P_n}{n}$\n",
    "\n",
    "    - EWMA:\n",
    "\n",
    "        - The EWMA (Exponential Weighted Moving Average) is a type of moving average indicator that assigns more weight to recent price data, making it more responsive to recent price changes compared to other moving averages like the simple moving average (SMA).\n",
    "\n",
    "        - The calculation of the EWMA involves applying a smoothing factor or weight to each price data point, with higher weights assigned to more recent data.\n",
    "\n",
    "        - $EWMA_t=\\alpha * p_t + (1-\\alpha) * EWMA_{t-1}$\n",
    "\n",
    "            - $\\alpha=\\frac{2}{N+1}$\n",
    "\n",
    "    - Bollinger bands:\n",
    "\n",
    "        - $BB=MA(\\frac{H+L+C}{3})\\pm2 \\sigma$\n",
    "\n",
    "Oscillators:\n",
    "\n",
    "- Oscillator indicators are a type of technical analysis tool that fluctuates above and below a centerline, providing information about the momentum, overbought or oversold conditions, and potential trend reversals in the price of a security.\n",
    "\n",
    "- Unlike overlay indicators that are plotted on the price chart, oscillators typically appear in a separate window or panel below the price chart.\n",
    "\n",
    "    - Key points:\n",
    "\n",
    "        - Oscillators are designed to oscillate within a specific range or around a centerline. The values of oscillators can move above and below the centerline, indicating positive or negative momentum.\n",
    "\n",
    "        - Oscillators often have predefined levels that indicate overbought and oversold conditions. When an oscillator reaches an extreme, it suggests that the price may be overbought / oversold, potentially signaling a trend reversal or a pullback.\n",
    "\n",
    "    - Relative Strength Index (RSI):\n",
    "\n",
    "        - The Relative Strength Index (RSI) is probably the most popular oscillator indicator used in technical analysis to measure the speed and change of price movements.\n",
    "\n",
    "        - It helps traders identify overbought and oversold conditions, potential trend reversals, and generate trading signals.\n",
    "\n",
    "    - Moving Average Convergence/Divergence:\n",
    "\n",
    "        - The Moving Average Convergence Divergence (MACD) is a widely used oscillator indicator in technical analysis. It helps traders identify potential trend changes, momentum shifts, and generate trading signals.\n",
    "        - The MACD oscillator consists of three main components: the MACD line, the signal line, and the histogram.\n",
    "\n",
    "    - MACD components:\n",
    "\n",
    "        - MACD Line: Is the difference between two exponential moving averages (EMAs). The most commonly used EMAs are the 12-day EMA and the 26-day EMA.\n",
    "\n",
    "        - Signal Line: Is a 9-day EMA of the MACD line. It smooths out the MACD line and generates trading signals when it crosses above or below the MACD line.\n",
    "\n",
    "        - Histogram: The histogram represents the difference between the MACD line and the signal line. Positive histogram bars indicate bullish momentum, while negative bars indicate bearish momentum.\n",
    "\n",
    "    - Stochastic Oscillator:\n",
    "\n",
    "        - The Stochastic Oscillator is a momentum indicator used in technical analysis to identify overbought and oversold conditions, potential trend reversals, and generate trading signals.\n",
    "\n",
    "        - It compares the current closing price of a security to its price range over a specified period, typically 14 periods.\n",
    "\n",
    "        - $\\%K=\\frac{\\text{close}_t-\\text{lowest low}_n}{\\text{highest high}_n-\\text{lowest low}_n}$\n",
    "\n",
    "            - $\\%D=MA_m(\\%K)$\n",
    "    \n",
    "- Notes:\n",
    "\n",
    "    - Both types of indicators are valuable tools for traders as they help identify potential overbought or oversold conditions, gauge momentum, and generate trading signals.\n",
    "\n",
    "    - However, it's important to remember that technical indicators have limitations and should be used in conjunction with other indicators and analysis techniques to increase the probability of accurate trading decisions."
   ]
  },
  {
   "cell_type": "markdown",
   "id": "d7cbb464",
   "metadata": {},
   "source": [
    "# Backtesting"
   ]
  },
  {
   "cell_type": "markdown",
   "id": "5fc1bbb0",
   "metadata": {},
   "source": [
    "Introduction:\n",
    "\n",
    "- Backtesting involves applying a strategy or predictive model to historical data to determine its accuracy. It can be used to test and compare the viability of trading strategies so traders can employ and tweak successful strategies.\n",
    "\n",
    "Biases:\n",
    "\n",
    "- When creating a trading model to be backtested, traders must avoid bias in creating the model. In order to ensure objectivity, the strategy must be tested on several different time periods with an unbiased and representative sample of stocks.\n",
    "\n",
    "- Another mistake when backtesting is look-ahead bias. Look-ahead bias involves incorporating information into the model being backtested that normally wouldn't be available when the model is actually implemented."
   ]
  },
  {
   "cell_type": "markdown",
   "id": "404527d8",
   "metadata": {},
   "source": [
    "# Ejercicio"
   ]
  },
  {
   "cell_type": "markdown",
   "id": "bbcaef63",
   "metadata": {},
   "source": [
    "Trades at close\n",
    "\n",
    "Comisión: $0.125\\%$\n",
    "\n",
    "$SL=TP=5\\%$\n",
    "\n",
    "Cash: $\\$1 M$\n",
    "\n",
    "N shares: $50$\n",
    "\n",
    "No taxes\n",
    "\n",
    "No leverages\n",
    "\n",
    "Margin acc: $50\\%$\n",
    "\n",
    "Borrow rate: $0.25\\%$\n",
    "\n",
    "Time frame: $5m$"
   ]
  },
  {
   "cell_type": "code",
   "execution_count": 54,
   "id": "c94ad614",
   "metadata": {},
   "outputs": [],
   "source": [
    "import pandas as pd\n",
    "import matplotlib.pyplot as plt\n",
    "import seaborn as sns\n",
    "import ta\n",
    "from dataclasses import dataclass\n",
    "import optuna\n",
    "import tqdm as notebook_tqdm\n",
    "\n",
    "sns.set_theme()"
   ]
  },
  {
   "cell_type": "code",
   "execution_count": 45,
   "id": "1c301784",
   "metadata": {},
   "outputs": [
    {
     "data": {
      "text/html": [
       "<div>\n",
       "<style scoped>\n",
       "    .dataframe tbody tr th:only-of-type {\n",
       "        vertical-align: middle;\n",
       "    }\n",
       "\n",
       "    .dataframe tbody tr th {\n",
       "        vertical-align: top;\n",
       "    }\n",
       "\n",
       "    .dataframe thead th {\n",
       "        text-align: right;\n",
       "    }\n",
       "</style>\n",
       "<table border=\"1\" class=\"dataframe\">\n",
       "  <thead>\n",
       "    <tr style=\"text-align: right;\">\n",
       "      <th></th>\n",
       "      <th>Unnamed: 0</th>\n",
       "      <th>Timestamp</th>\n",
       "      <th>Gmtoffset</th>\n",
       "      <th>Datetime</th>\n",
       "      <th>Open</th>\n",
       "      <th>High</th>\n",
       "      <th>Low</th>\n",
       "      <th>Close</th>\n",
       "      <th>Volume</th>\n",
       "    </tr>\n",
       "  </thead>\n",
       "  <tbody>\n",
       "    <tr>\n",
       "      <th>0</th>\n",
       "      <td>0</td>\n",
       "      <td>1609770600</td>\n",
       "      <td>0</td>\n",
       "      <td>2021-01-04 14:30:00</td>\n",
       "      <td>133.570007</td>\n",
       "      <td>133.611602</td>\n",
       "      <td>132.389999</td>\n",
       "      <td>132.809997</td>\n",
       "      <td>6624663.0</td>\n",
       "    </tr>\n",
       "    <tr>\n",
       "      <th>1</th>\n",
       "      <td>1</td>\n",
       "      <td>1609770900</td>\n",
       "      <td>0</td>\n",
       "      <td>2021-01-04 14:35:00</td>\n",
       "      <td>132.750000</td>\n",
       "      <td>132.750000</td>\n",
       "      <td>131.809997</td>\n",
       "      <td>131.889999</td>\n",
       "      <td>2541553.0</td>\n",
       "    </tr>\n",
       "    <tr>\n",
       "      <th>2</th>\n",
       "      <td>2</td>\n",
       "      <td>1609771200</td>\n",
       "      <td>0</td>\n",
       "      <td>2021-01-04 14:40:00</td>\n",
       "      <td>131.500000</td>\n",
       "      <td>132.339996</td>\n",
       "      <td>131.500000</td>\n",
       "      <td>132.059997</td>\n",
       "      <td>2492415.0</td>\n",
       "    </tr>\n",
       "    <tr>\n",
       "      <th>3</th>\n",
       "      <td>3</td>\n",
       "      <td>1609771500</td>\n",
       "      <td>0</td>\n",
       "      <td>2021-01-04 14:45:00</td>\n",
       "      <td>132.000000</td>\n",
       "      <td>132.250000</td>\n",
       "      <td>131.899993</td>\n",
       "      <td>132.250000</td>\n",
       "      <td>1859131.0</td>\n",
       "    </tr>\n",
       "    <tr>\n",
       "      <th>4</th>\n",
       "      <td>4</td>\n",
       "      <td>1609771800</td>\n",
       "      <td>0</td>\n",
       "      <td>2021-01-04 14:50:00</td>\n",
       "      <td>132.000000</td>\n",
       "      <td>132.018096</td>\n",
       "      <td>131.520004</td>\n",
       "      <td>131.589996</td>\n",
       "      <td>1780105.0</td>\n",
       "    </tr>\n",
       "  </tbody>\n",
       "</table>\n",
       "</div>"
      ],
      "text/plain": [
       "   Unnamed: 0   Timestamp  Gmtoffset             Datetime        Open  \\\n",
       "0           0  1609770600          0  2021-01-04 14:30:00  133.570007   \n",
       "1           1  1609770900          0  2021-01-04 14:35:00  132.750000   \n",
       "2           2  1609771200          0  2021-01-04 14:40:00  131.500000   \n",
       "3           3  1609771500          0  2021-01-04 14:45:00  132.000000   \n",
       "4           4  1609771800          0  2021-01-04 14:50:00  132.000000   \n",
       "\n",
       "         High         Low       Close     Volume  \n",
       "0  133.611602  132.389999  132.809997  6624663.0  \n",
       "1  132.750000  131.809997  131.889999  2541553.0  \n",
       "2  132.339996  131.500000  132.059997  2492415.0  \n",
       "3  132.250000  131.899993  132.250000  1859131.0  \n",
       "4  132.018096  131.520004  131.589996  1780105.0  "
      ]
     },
     "execution_count": 45,
     "metadata": {},
     "output_type": "execute_result"
    }
   ],
   "source": [
    "data = pd.read_csv('aapl_5m_train.csv').dropna()\n",
    "data.head()"
   ]
  },
  {
   "cell_type": "code",
   "execution_count": 46,
   "id": "40cfb528",
   "metadata": {},
   "outputs": [],
   "source": [
    "rsi_indicator = ta.momentum.RSIIndicator(data.Close, window=20)\n",
    "data['rsi'] = rsi_indicator.rsi()"
   ]
  },
  {
   "cell_type": "code",
   "execution_count": 47,
   "id": "7936b0a4",
   "metadata": {},
   "outputs": [
    {
     "name": "stderr",
     "output_type": "stream",
     "text": [
      "/var/folders/39/pg899vtj5774718bjd1zhn6m0000gn/T/ipykernel_29349/1825628898.py:2: SettingWithCopyWarning: \n",
      "A value is trying to be set on a copy of a slice from a DataFrame.\n",
      "Try using .loc[row_indexer,col_indexer] = value instead\n",
      "\n",
      "See the caveats in the documentation: https://pandas.pydata.org/pandas-docs/stable/user_guide/indexing.html#returning-a-view-versus-a-copy\n",
      "  historic['buy_signal'] = historic[\"rsi\"] < 20\n",
      "/var/folders/39/pg899vtj5774718bjd1zhn6m0000gn/T/ipykernel_29349/1825628898.py:3: SettingWithCopyWarning: \n",
      "A value is trying to be set on a copy of a slice from a DataFrame.\n",
      "Try using .loc[row_indexer,col_indexer] = value instead\n",
      "\n",
      "See the caveats in the documentation: https://pandas.pydata.org/pandas-docs/stable/user_guide/indexing.html#returning-a-view-versus-a-copy\n",
      "  historic['sell_signal'] = historic[\"rsi\"] > 80\n"
     ]
    }
   ],
   "source": [
    "historic = data.dropna()\n",
    "historic['buy_signal'] = historic[\"rsi\"] < 20\n",
    "historic['sell_signal'] = historic[\"rsi\"] > 80"
   ]
  },
  {
   "cell_type": "code",
   "execution_count": 48,
   "id": "5c7d7c2e",
   "metadata": {},
   "outputs": [],
   "source": [
    "COM = 0.125 / 100\n",
    "SL = 0.05\n",
    "TP = 0.05\n",
    "BORROW_RATE = 0.25 / 100\n",
    "\n",
    "cash = 1_000_000\n",
    "n_shares = 50"
   ]
  },
  {
   "cell_type": "code",
   "execution_count": 49,
   "id": "aa745de4",
   "metadata": {},
   "outputs": [],
   "source": [
    "from dataclasses import dataclass\n",
    "\n",
    "@dataclass\n",
    "class Operation:\n",
    "    time: str\n",
    "    price: float\n",
    "    stop_loss: float\n",
    "    take_profit: float\n",
    "    n_shares: int\n",
    "    type: str"
   ]
  },
  {
   "cell_type": "code",
   "execution_count": 55,
   "id": "199be11e",
   "metadata": {},
   "outputs": [],
   "source": [
    "data = pd.read_csv('aapl_5m_train.csv').dropna()"
   ]
  },
  {
   "cell_type": "code",
   "execution_count": 56,
   "id": "313783a0",
   "metadata": {},
   "outputs": [],
   "source": [
    "def get_portfolio_value(cash: float, long_ops: list[Operation], short_ops: list[Operation], \n",
    "                        current_price: float, n_shares: int) -> float:\n",
    "   \n",
    "    val = cash \n",
    "\n",
    "    # Add long position values\n",
    "    val += len(long_ops) * current_price * n_shares \n",
    "\n",
    "    # Add short position values\n",
    "\n",
    "    return val"
   ]
  },
  {
   "cell_type": "code",
   "execution_count": 57,
   "id": "017d4a86",
   "metadata": {},
   "outputs": [],
   "source": [
    "def backtest(data, trial):\n",
    "    data = data.copy()\n",
    "\n",
    "    rsi_window = trial.suggest_int('rsi_window', 5, 50)\n",
    "    rsi_lower = trial.suggest_int('rsi_lower', 5, 35)\n",
    "    rsi_upper = trial.suggest_int('rsi_upper', 65, 95)\n",
    "    stop_loss_pct = trial.suggest_float('stop_loss_pct', 0.01, 0.15)\n",
    "    take_profit_pct = trial.suggest_float('take_profit_pct', 0.01, 0.15)\n",
    "    n_shares = trial.suggest_int('n_shares', 50, 500)\n",
    "\n",
    "    rsi_indicator = ta.momentum.RSIIndicator(data.Close, window=rsi_window)\n",
    "    data['rsi'] = rsi_indicator.rsi()\n",
    "\n",
    "    data['buy_signal'] = data[\"rsi\"] < rsi_lower\n",
    "    data['sell_signal'] = data[\"rsi\"] > rsi_upper\n",
    "\n",
    "    COM = 0.125 / 100\n",
    "    SL = stop_loss_pct\n",
    "    TP = take_profit_pct\n",
    "    BORROW_RATE = 0.25 / 100\n",
    "\n",
    "    cash = 1_000_000\n",
    "    n_shares = n_shares\n",
    "\n",
    "    active_long_positions: list[Operation] = []\n",
    "\n",
    "    portfolio_value = [cash]\n",
    "\n",
    "    for i, row in historic.iterrows():\n",
    "        # This only works for long positions\n",
    "        \n",
    "        # Close positions\n",
    "        for position in active_long_positions.copy():\n",
    "            if row.Close > position.take_profit or row.Close < position.stop_loss:\n",
    "                cash += row.Close * position.n_shares * (1 - COM)\n",
    "                active_long_positions.remove(position)\n",
    "        # --- BUY ---\n",
    "        # Check signal\n",
    "        if not row.buy_signal:\n",
    "            portfolio_value.append(get_portfolio_value(cash, active_long_positions, [], row.Close, n_shares))\n",
    "            continue\n",
    "        # Do we have enough cash?\n",
    "        if cash < row.Close * n_shares * (1 + COM):\n",
    "            portfolio_value.append(get_portfolio_value(cash, active_long_positions, [], row.Close, n_shares))\n",
    "            continue\n",
    "        # Discount the cost\n",
    "        cash -= row.Close * n_shares * (1 + COM)\n",
    "        # Save the operation as active position\n",
    "        active_long_positions.append(\n",
    "            Operation(\n",
    "            time=row.Datetime,\n",
    "            price=row.Close,\n",
    "            take_profit=row.Close * (1 + TP),\n",
    "            stop_loss=row.Close * (1 - SL),\n",
    "            n_shares=n_shares,\n",
    "            type=\"LONG\"\n",
    "            )\n",
    "        )\n",
    "\n",
    "        portfolio_value.append(get_portfolio_value(cash, active_long_positions, [], row.Close, n_shares))\n",
    "\n",
    "    cash += row.Close * len(active_long_positions) * n_shares * (1 - COM)\n",
    "    active_long_positions = []\n",
    "\n",
    "    return (cash / 1_000_000) - 1\n"
   ]
  },
  {
   "cell_type": "code",
   "execution_count": 58,
   "id": "f2fbfb1a",
   "metadata": {},
   "outputs": [
    {
     "name": "stderr",
     "output_type": "stream",
     "text": [
      "[I 2025-09-11 21:34:02,502] A new study created in memory with name: no-name-e1915d8f-e466-42ac-96a1-de039c362202\n",
      "[I 2025-09-11 21:34:03,978] Trial 0 finished with value: 0.3789554766925225 and parameters: {'rsi_window': 12, 'rsi_lower': 31, 'rsi_upper': 83, 'stop_loss_pct': 0.12171313306725529, 'take_profit_pct': 0.14518053358973912, 'n_shares': 326}. Best is trial 0 with value: 0.3789554766925225.\n",
      "[I 2025-09-11 21:34:05,161] Trial 1 finished with value: 0.2670824844236592 and parameters: {'rsi_window': 26, 'rsi_lower': 15, 'rsi_upper': 85, 'stop_loss_pct': 0.061846785574726684, 'take_profit_pct': 0.14355597171504283, 'n_shares': 407}. Best is trial 0 with value: 0.3789554766925225.\n",
      "[I 2025-09-11 21:34:06,146] Trial 2 finished with value: 0.05135153822316396 and parameters: {'rsi_window': 36, 'rsi_lower': 34, 'rsi_upper': 71, 'stop_loss_pct': 0.05807999805462602, 'take_profit_pct': 0.06475327232242957, 'n_shares': 143}. Best is trial 0 with value: 0.3789554766925225.\n",
      "[I 2025-09-11 21:34:07,252] Trial 3 finished with value: 0.20896664705139067 and parameters: {'rsi_window': 49, 'rsi_lower': 9, 'rsi_upper': 77, 'stop_loss_pct': 0.12886785062233821, 'take_profit_pct': 0.06212896301170173, 'n_shares': 356}. Best is trial 0 with value: 0.3789554766925225.\n",
      "[I 2025-09-11 21:34:08,192] Trial 4 finished with value: 0.06181455791436807 and parameters: {'rsi_window': 29, 'rsi_lower': 5, 'rsi_upper': 95, 'stop_loss_pct': 0.06928925104346793, 'take_profit_pct': 0.048781439198585935, 'n_shares': 198}. Best is trial 0 with value: 0.3789554766925225.\n",
      "[I 2025-09-11 21:34:09,317] Trial 5 finished with value: 0.23364990104109373 and parameters: {'rsi_window': 40, 'rsi_lower': 28, 'rsi_upper': 76, 'stop_loss_pct': 0.12314065807142288, 'take_profit_pct': 0.06543992395443665, 'n_shares': 375}. Best is trial 0 with value: 0.3789554766925225.\n",
      "[I 2025-09-11 21:34:10,359] Trial 6 finished with value: 0.04854434339467906 and parameters: {'rsi_window': 14, 'rsi_lower': 35, 'rsi_upper': 83, 'stop_loss_pct': 0.04984203827036498, 'take_profit_pct': 0.10607613737731374, 'n_shares': 97}. Best is trial 0 with value: 0.3789554766925225.\n",
      "[I 2025-09-11 21:34:11,340] Trial 7 finished with value: 0.23474760934018946 and parameters: {'rsi_window': 31, 'rsi_lower': 16, 'rsi_upper': 79, 'stop_loss_pct': 0.09470578106911898, 'take_profit_pct': 0.061930470102255955, 'n_shares': 471}. Best is trial 0 with value: 0.3789554766925225.\n",
      "[I 2025-09-11 21:34:12,281] Trial 8 finished with value: 0.19184019132300856 and parameters: {'rsi_window': 48, 'rsi_lower': 27, 'rsi_upper': 80, 'stop_loss_pct': 0.052853268102620976, 'take_profit_pct': 0.0875005066670612, 'n_shares': 477}. Best is trial 0 with value: 0.3789554766925225.\n",
      "[I 2025-09-11 21:34:13,750] Trial 9 finished with value: 0.4816509204599815 and parameters: {'rsi_window': 39, 'rsi_lower': 17, 'rsi_upper': 73, 'stop_loss_pct': 0.1398883558379866, 'take_profit_pct': 0.13819950513875848, 'n_shares': 473}. Best is trial 9 with value: 0.4816509204599815.\n"
     ]
    }
   ],
   "source": [
    "study = optuna.create_study(direction = 'maximize')\n",
    "study.optimize(lambda trial: backtest(data, trial), n_trials = 10)"
   ]
  },
  {
   "cell_type": "code",
   "execution_count": 59,
   "id": "a9a459b2",
   "metadata": {},
   "outputs": [
    {
     "data": {
      "text/plain": [
       "{'rsi_window': 39,\n",
       " 'rsi_lower': 17,\n",
       " 'rsi_upper': 73,\n",
       " 'stop_loss_pct': 0.1398883558379866,\n",
       " 'take_profit_pct': 0.13819950513875848,\n",
       " 'n_shares': 473}"
      ]
     },
     "execution_count": 59,
     "metadata": {},
     "output_type": "execute_result"
    }
   ],
   "source": [
    "study.best_params"
   ]
  },
  {
   "cell_type": "code",
   "execution_count": 60,
   "id": "b88bd3ff",
   "metadata": {},
   "outputs": [
    {
     "data": {
      "text/plain": [
       "0.4816509204599815"
      ]
     },
     "execution_count": 60,
     "metadata": {},
     "output_type": "execute_result"
    }
   ],
   "source": [
    "study.best_value"
   ]
  },
  {
   "cell_type": "code",
   "execution_count": 51,
   "id": "157b73cf",
   "metadata": {},
   "outputs": [],
   "source": [
    "COM = 0.125 / 100\n",
    "SL = 0.1\n",
    "TP = 0.1\n",
    "BORROW_RATE = 0.25 / 100\n",
    "\n",
    "cash = 1_000_000\n",
    "n_shares = 200\n",
    "\n",
    "active_long_positions: list[Operation] = []\n",
    "\n",
    "portfolio_value = [cash]\n",
    "\n",
    "for i, row in historic.iterrows():\n",
    "    # This only works for long positions\n",
    "    \n",
    "    # Close positions\n",
    "    for position in active_long_positions.copy():\n",
    "        if row.Close > position.take_profit or row.Close < position.stop_loss:\n",
    "            cash += row.Close * position.n_shares * (1 - COM)\n",
    "            active_long_positions.remove(position)\n",
    "    # --- BUY ---\n",
    "    # Check signal\n",
    "    if not row.buy_signal:\n",
    "        portfolio_value.append(get_portfolio_value(cash, active_long_positions, [], row.Close, n_shares))\n",
    "        continue\n",
    "    # Do we have enough cash?\n",
    "    if cash < row.Close * n_shares * (1 + COM):\n",
    "        portfolio_value.append(get_portfolio_value(cash, active_long_positions, [], row.Close, n_shares))\n",
    "        continue\n",
    "    # Discount the cost\n",
    "    cash -= row.Close * n_shares * (1 + COM)\n",
    "    # Save the operation as active position\n",
    "    active_long_positions.append(\n",
    "        Operation(\n",
    "        time=row.Datetime,\n",
    "        price=row.Close,\n",
    "        take_profit=row.Close * (1 + TP),\n",
    "        stop_loss=row.Close * (1 - SL),\n",
    "        n_shares=n_shares,\n",
    "        type=\"LONG\"\n",
    "        )\n",
    "    )\n",
    "\n",
    "    portfolio_value.append(get_portfolio_value(cash, active_long_positions, [], row.Close, n_shares))\n",
    "\n",
    "cash += row.Close * len(active_long_positions) * n_shares * (1 - COM)\n",
    "active_long_positions = []"
   ]
  },
  {
   "cell_type": "code",
   "execution_count": 52,
   "id": "a3d1403b",
   "metadata": {},
   "outputs": [
    {
     "data": {
      "text/plain": [
       "(1175409.6117202505, 0)"
      ]
     },
     "execution_count": 52,
     "metadata": {},
     "output_type": "execute_result"
    }
   ],
   "source": [
    "cash, len(active_long_positions)"
   ]
  },
  {
   "cell_type": "code",
   "execution_count": 62,
   "id": "8ee047aa",
   "metadata": {},
   "outputs": [
    {
     "data": {
      "text/plain": [
       "[<matplotlib.lines.Line2D at 0x30c1fca30>]"
      ]
     },
     "execution_count": 62,
     "metadata": {},
     "output_type": "execute_result"
    },
    {
     "data": {
      "image/png": "[encoded data removed]",
      "text/plain": [
       "<Figure size 640x480 with 1 Axes>"
      ]
     },
     "metadata": {},
     "output_type": "display_data"
    }
   ],
   "source": [
    "plt.plot(portfolio_value)"
   ]
  }
 ],
 "metadata": {
  "kernelspec": {
   "display_name": "Python 3",
   "language": "python",
   "name": "python3"
  },
  "language_info": {
   "codemirror_mode": {
    "name": "ipython",
    "version": 3
   },
   "file_extension": ".py",
   "mimetype": "text/x-python",
   "name": "python",
   "nbconvert_exporter": "python",
   "pygments_lexer": "ipython3",
   "version": "3.9.6"
  }
 },
 "nbformat": 4,
 "nbformat_minor": 5
}
