{
 "cells": [
  {
   "cell_type": "markdown",
   "id": "228281ec",
   "metadata": {},
   "source": [
    "# Market Microstructure: Market makers\n",
    "## 21 de agosto 2025\n",
    "### Ana Sofía Hinojosa Bale"
   ]
  },
  {
   "cell_type": "markdown",
   "id": "8b6534cb",
   "metadata": {},
   "source": [
    "•⁠  ⁠Market makers are liquidity providers that quote prices to buy or sell an asset, while also serving as a dealer, reducing transaction costs and facilitating trades.\n",
    "\n",
    "•⁠  ⁠They hold large amounts of stocks and are willing to buy/sell at the quoted price, thisi way they provide liquidity for the retail investors.\n",
    "\n",
    "•⁠  ⁠Since they facilitate trades with a bid/ask quote, they get to profit from spreads.\n",
    "\n",
    "**Types of traders**\n",
    "\n",
    "-> Informed traders: They know what the price should be through research. $-$\n",
    "\n",
    "-> Liquidity traders: Investros or long-term traders that don't mind paying spreads to buy stocks, ETFs or 401k cashouts. $+$\n",
    "\n",
    "-> Noisy traders: They think they have something special but they don't. $+$\n",
    "\n"
   ]
  },
  {
   "cell_type": "markdown",
   "id": "fe6cc894",
   "metadata": {},
   "source": [
    "## Effective Spread"
   ]
  },
  {
   "cell_type": "markdown",
   "id": "84c55656",
   "metadata": {},
   "source": [
    "The field of market microstructure deals with the costs of providing transaction services and with the impact of such costs on the short run behavior of securities prices. Costs are reflected in the bid-ask spred (and related measures) and commissions.\n",
    "\n",
    "The spread can be measured as the difference betwwen Bid and Ask prices. \n",
    "\n",
    "If we define spread as:\n",
    "\n",
    "$$ S = P_A-P_B$$"
   ]
  },
  {
   "cell_type": "markdown",
   "id": "d5f79591",
   "metadata": {},
   "source": [
    "#### <u>*Notas*</u>\n",
    "\n",
    "*Estacionario: Media cero y varianza constante*\n",
    "\n",
    "$$ COV[X,Y] = E[XY] -E[X]E[Y]"
   ]
  },
  {
   "cell_type": "markdown",
   "id": "30bffa38",
   "metadata": {},
   "source": [
    "Para el spread:\n",
    "\n",
    "$$-s^2/4=cov(\\Delta P_t,\\Delta P_{t+1})$$\n",
    "\n",
    "$$S = (2)\\sqrt{|cov()|}$$"
   ]
  }
 ],
 "metadata": {
  "language_info": {
   "name": "python"
  }
 },
 "nbformat": 4,
 "nbformat_minor": 5
}
