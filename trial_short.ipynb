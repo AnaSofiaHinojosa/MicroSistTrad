{
 "cells": [
  {
   "cell_type": "markdown",
   "id": "404527d8",
   "metadata": {},
   "source": [
    "# Ejercicio"
   ]
  },
  {
   "cell_type": "markdown",
   "id": "bbcaef63",
   "metadata": {},
   "source": [
    "Trades at close\n",
    "\n",
    "Comisión: $0.125\\%$\n",
    "\n",
    "$SL=TP=5\\%$\n",
    "\n",
    "Cash: $\\$1 M$\n",
    "\n",
    "N shares: $50$\n",
    "\n",
    "No taxes\n",
    "\n",
    "No leverages\n",
    "\n",
    "Margin acc: $50\\%$\n",
    "\n",
    "Borrow rate: $0.25\\%$\n",
    "\n",
    "Time frame: $5m$"
   ]
  },
  {
   "cell_type": "code",
   "execution_count": 10,
   "id": "c94ad614",
   "metadata": {},
   "outputs": [],
   "source": [
    "import pandas as pd\n",
    "import matplotlib.pyplot as plt\n",
    "import seaborn as sns\n",
    "import ta\n",
    "from dataclasses import dataclass\n",
    "import optuna\n",
    "import tqdm as notebook_tqdm\n",
    "\n",
    "sns.set_theme()"
   ]
  },
  {
   "cell_type": "code",
   "execution_count": 11,
   "id": "aa745de4",
   "metadata": {},
   "outputs": [],
   "source": [
    "from dataclasses import dataclass\n",
    "\n",
    "@dataclass\n",
    "class Operation:\n",
    "    time: str\n",
    "    price: float\n",
    "    stop_loss: float\n",
    "    take_profit: float\n",
    "    n_shares: int\n",
    "    type: str"
   ]
  },
  {
   "cell_type": "code",
   "execution_count": 12,
   "id": "199be11e",
   "metadata": {},
   "outputs": [],
   "source": [
    "data = pd.read_csv('aapl_5m_train.csv').dropna()"
   ]
  },
  {
   "cell_type": "code",
   "execution_count": 13,
   "id": "313783a0",
   "metadata": {},
   "outputs": [],
   "source": [
    "def get_portfolio_value(cash: float, long_ops: list[Operation], short_ops: list[Operation], \n",
    "                        current_price: float, n_shares: int) -> float:\n",
    "   \n",
    "    val = cash \n",
    "\n",
    "    # Add long position values\n",
    "    val += len(long_ops) * current_price * n_shares \n",
    "\n",
    "    # Add short position values\n",
    "\n",
    "    return val"
   ]
  },
  {
   "cell_type": "code",
   "execution_count": 14,
   "id": "017d4a86",
   "metadata": {},
   "outputs": [],
   "source": [
    "def backtest(data, trial) -> float:\n",
    "    data = data.copy()\n",
    "\n",
    "    rsi_window = trial.suggest_int(\"rsi_window\", 5, 50)\n",
    "    rsi_lower = trial.suggest_int(\"rsi_lower\", 5, 35)\n",
    "    rsi_upper = trial.suggest_int(\"rsi_upper\", 65, 95)\n",
    "    stop_loss = trial.suggest_float(\"stop_loss\", 0.01, 0.15)\n",
    "    take_profit = trial.suggest_float(\"take_profit\", 0.01, 0.15)\n",
    "    n_shares = trial.suggest_int(\"n_shares\", 50, 500)\n",
    "\n",
    "    rsi_indicator = ta.momentum.RSIIndicator(data.Close, window=rsi_window)\n",
    "\n",
    "    data[\"rsi\"] = rsi_indicator.rsi()\n",
    "\n",
    "    historic = data.dropna()\n",
    "    historic[\"buy_signal\"] = historic.rsi < rsi_lower\n",
    "    historic[\"sell_signal\"] = historic.rsi > rsi_upper\n",
    "\n",
    "\n",
    "    COM = 0.125 / 100\n",
    "    SL = stop_loss\n",
    "    TP = take_profit\n",
    "    BORROW_RATE = 0.25/100\n",
    "\n",
    "    cash = 1_000_000\n",
    "\n",
    "\n",
    "    active_long_positions= []\n",
    "\n",
    "    portfolio_value = [cash]\n",
    "\n",
    "    for i, row in historic.iterrows():\n",
    "        \n",
    "        # This only works for long positions\n",
    "        portfolio_value.append(get_portfolio_value(cash, active_long_positions, [], row.Close, n_shares))\n",
    "\n",
    "\n",
    "        # Close Operations\n",
    "        for position in active_long_positions.copy():\n",
    "            if row.Close > position.take_profit or row.Close < position.stop_loss:\n",
    "                cash += row.Close * position.n_shares * (1 - COM)\n",
    "                active_long_positions.remove(position)\n",
    "\n",
    "        # --- BUY\n",
    "        # Check Signal\n",
    "        if not row.buy_signal:\n",
    "            portfolio_value.append(get_portfolio_value(cash, active_long_positions, [], row.Close, n_shares))\n",
    "\n",
    "            continue\n",
    "\n",
    "        # Enough Cash?\n",
    "        if cash < row.Close * n_shares * (1 + COM):\n",
    "            portfolio_value.append(get_portfolio_value(cash, active_long_positions, [], row.Close, n_shares))\n",
    "\n",
    "            continue\n",
    "        # Discount Costs\n",
    "        cash -= row.Close * n_shares * (1 + COM)\n",
    "\n",
    "\n",
    "        # Save the Operation as active position\n",
    "        active_long_positions.append(\n",
    "            Operation(\n",
    "            time=row.Datetime,\n",
    "            price=row.Close,\n",
    "            take_profit=row.Close * (1 + TP),\n",
    "            stop_loss= row.Close * (1 - SL),\n",
    "            n_shares=n_shares,\n",
    "            type = \"LONG\"\n",
    "        )\n",
    "    )\n",
    "\n",
    "        portfolio_value.append(get_portfolio_value(cash, active_long_positions, [], row.Close, n_shares))\n",
    "\n",
    "    #añadimos al cash las posiciones que siguen abiertas cuando terminamos las posiciones\n",
    "\n",
    "    cash += row.Close * len(active_long_positions) *(1 - COM)\n",
    "    active_position = []\n",
    "\n",
    "    return (cash / 1_000_000) - 1\n"
   ]
  },
  {
   "cell_type": "code",
   "execution_count": 15,
   "id": "f2fbfb1a",
   "metadata": {},
   "outputs": [
    {
     "name": "stderr",
     "output_type": "stream",
     "text": [
      "[I 2025-09-12 07:41:22,555] A new study created in memory with name: no-name-15fcc1a5-51a7-43a4-994c-93b246618b6d\n",
      "/var/folders/39/pg899vtj5774718bjd1zhn6m0000gn/T/ipykernel_31246/2343508439.py:16: SettingWithCopyWarning: \n",
      "A value is trying to be set on a copy of a slice from a DataFrame.\n",
      "Try using .loc[row_indexer,col_indexer] = value instead\n",
      "\n",
      "See the caveats in the documentation: https://pandas.pydata.org/pandas-docs/stable/user_guide/indexing.html#returning-a-view-versus-a-copy\n",
      "  historic[\"buy_signal\"] = historic.rsi < rsi_lower\n",
      "/var/folders/39/pg899vtj5774718bjd1zhn6m0000gn/T/ipykernel_31246/2343508439.py:17: SettingWithCopyWarning: \n",
      "A value is trying to be set on a copy of a slice from a DataFrame.\n",
      "Try using .loc[row_indexer,col_indexer] = value instead\n",
      "\n",
      "See the caveats in the documentation: https://pandas.pydata.org/pandas-docs/stable/user_guide/indexing.html#returning-a-view-versus-a-copy\n",
      "  historic[\"sell_signal\"] = historic.rsi > rsi_upper\n",
      "[I 2025-09-12 07:41:23,212] Trial 0 finished with value: 0.0 and parameters: {'rsi_window': 31, 'rsi_lower': 5, 'rsi_upper': 94, 'stop_loss': 0.04801040927211141, 'take_profit': 0.12620855815382762, 'n_shares': 201}. Best is trial 0 with value: 0.0.\n",
      "/var/folders/39/pg899vtj5774718bjd1zhn6m0000gn/T/ipykernel_31246/2343508439.py:16: SettingWithCopyWarning: \n",
      "A value is trying to be set on a copy of a slice from a DataFrame.\n",
      "Try using .loc[row_indexer,col_indexer] = value instead\n",
      "\n",
      "See the caveats in the documentation: https://pandas.pydata.org/pandas-docs/stable/user_guide/indexing.html#returning-a-view-versus-a-copy\n",
      "  historic[\"buy_signal\"] = historic.rsi < rsi_lower\n",
      "/var/folders/39/pg899vtj5774718bjd1zhn6m0000gn/T/ipykernel_31246/2343508439.py:17: SettingWithCopyWarning: \n",
      "A value is trying to be set on a copy of a slice from a DataFrame.\n",
      "Try using .loc[row_indexer,col_indexer] = value instead\n",
      "\n",
      "See the caveats in the documentation: https://pandas.pydata.org/pandas-docs/stable/user_guide/indexing.html#returning-a-view-versus-a-copy\n",
      "  historic[\"sell_signal\"] = historic.rsi > rsi_upper\n",
      "[I 2025-09-12 07:41:23,876] Trial 1 finished with value: 0.0 and parameters: {'rsi_window': 49, 'rsi_lower': 15, 'rsi_upper': 94, 'stop_loss': 0.05407323915930897, 'take_profit': 0.13148383368729297, 'n_shares': 148}. Best is trial 0 with value: 0.0.\n",
      "/var/folders/39/pg899vtj5774718bjd1zhn6m0000gn/T/ipykernel_31246/2343508439.py:16: SettingWithCopyWarning: \n",
      "A value is trying to be set on a copy of a slice from a DataFrame.\n",
      "Try using .loc[row_indexer,col_indexer] = value instead\n",
      "\n",
      "See the caveats in the documentation: https://pandas.pydata.org/pandas-docs/stable/user_guide/indexing.html#returning-a-view-versus-a-copy\n",
      "  historic[\"buy_signal\"] = historic.rsi < rsi_lower\n",
      "/var/folders/39/pg899vtj5774718bjd1zhn6m0000gn/T/ipykernel_31246/2343508439.py:17: SettingWithCopyWarning: \n",
      "A value is trying to be set on a copy of a slice from a DataFrame.\n",
      "Try using .loc[row_indexer,col_indexer] = value instead\n",
      "\n",
      "See the caveats in the documentation: https://pandas.pydata.org/pandas-docs/stable/user_guide/indexing.html#returning-a-view-versus-a-copy\n",
      "  historic[\"sell_signal\"] = historic.rsi > rsi_upper\n",
      "[I 2025-09-12 07:41:26,149] Trial 2 finished with value: -0.23261813189580594 and parameters: {'rsi_window': 38, 'rsi_lower': 32, 'rsi_upper': 87, 'stop_loss': 0.13970495490267937, 'take_profit': 0.02671623877794102, 'n_shares': 178}. Best is trial 0 with value: 0.0.\n",
      "/var/folders/39/pg899vtj5774718bjd1zhn6m0000gn/T/ipykernel_31246/2343508439.py:16: SettingWithCopyWarning: \n",
      "A value is trying to be set on a copy of a slice from a DataFrame.\n",
      "Try using .loc[row_indexer,col_indexer] = value instead\n",
      "\n",
      "See the caveats in the documentation: https://pandas.pydata.org/pandas-docs/stable/user_guide/indexing.html#returning-a-view-versus-a-copy\n",
      "  historic[\"buy_signal\"] = historic.rsi < rsi_lower\n",
      "/var/folders/39/pg899vtj5774718bjd1zhn6m0000gn/T/ipykernel_31246/2343508439.py:17: SettingWithCopyWarning: \n",
      "A value is trying to be set on a copy of a slice from a DataFrame.\n",
      "Try using .loc[row_indexer,col_indexer] = value instead\n",
      "\n",
      "See the caveats in the documentation: https://pandas.pydata.org/pandas-docs/stable/user_guide/indexing.html#returning-a-view-versus-a-copy\n",
      "  historic[\"sell_signal\"] = historic.rsi > rsi_upper\n",
      "[I 2025-09-12 07:41:26,815] Trial 3 finished with value: 0.0 and parameters: {'rsi_window': 47, 'rsi_lower': 8, 'rsi_upper': 87, 'stop_loss': 0.07050019570792539, 'take_profit': 0.050336195332530684, 'n_shares': 423}. Best is trial 0 with value: 0.0.\n",
      "/var/folders/39/pg899vtj5774718bjd1zhn6m0000gn/T/ipykernel_31246/2343508439.py:16: SettingWithCopyWarning: \n",
      "A value is trying to be set on a copy of a slice from a DataFrame.\n",
      "Try using .loc[row_indexer,col_indexer] = value instead\n",
      "\n",
      "See the caveats in the documentation: https://pandas.pydata.org/pandas-docs/stable/user_guide/indexing.html#returning-a-view-versus-a-copy\n",
      "  historic[\"buy_signal\"] = historic.rsi < rsi_lower\n",
      "/var/folders/39/pg899vtj5774718bjd1zhn6m0000gn/T/ipykernel_31246/2343508439.py:17: SettingWithCopyWarning: \n",
      "A value is trying to be set on a copy of a slice from a DataFrame.\n",
      "Try using .loc[row_indexer,col_indexer] = value instead\n",
      "\n",
      "See the caveats in the documentation: https://pandas.pydata.org/pandas-docs/stable/user_guide/indexing.html#returning-a-view-versus-a-copy\n",
      "  historic[\"sell_signal\"] = historic.rsi > rsi_upper\n",
      "[I 2025-09-12 07:41:27,683] Trial 4 finished with value: 0.08621993762643054 and parameters: {'rsi_window': 24, 'rsi_lower': 19, 'rsi_upper': 68, 'stop_loss': 0.13239067858483725, 'take_profit': 0.06493924980913501, 'n_shares': 311}. Best is trial 4 with value: 0.08621993762643054.\n",
      "/var/folders/39/pg899vtj5774718bjd1zhn6m0000gn/T/ipykernel_31246/2343508439.py:16: SettingWithCopyWarning: \n",
      "A value is trying to be set on a copy of a slice from a DataFrame.\n",
      "Try using .loc[row_indexer,col_indexer] = value instead\n",
      "\n",
      "See the caveats in the documentation: https://pandas.pydata.org/pandas-docs/stable/user_guide/indexing.html#returning-a-view-versus-a-copy\n",
      "  historic[\"buy_signal\"] = historic.rsi < rsi_lower\n",
      "/var/folders/39/pg899vtj5774718bjd1zhn6m0000gn/T/ipykernel_31246/2343508439.py:17: SettingWithCopyWarning: \n",
      "A value is trying to be set on a copy of a slice from a DataFrame.\n",
      "Try using .loc[row_indexer,col_indexer] = value instead\n",
      "\n",
      "See the caveats in the documentation: https://pandas.pydata.org/pandas-docs/stable/user_guide/indexing.html#returning-a-view-versus-a-copy\n",
      "  historic[\"sell_signal\"] = historic.rsi > rsi_upper\n",
      "[I 2025-09-12 07:41:32,166] Trial 5 finished with value: -0.990773852272858 and parameters: {'rsi_window': 5, 'rsi_lower': 18, 'rsi_upper': 74, 'stop_loss': 0.14636495095301352, 'take_profit': 0.10324451272385897, 'n_shares': 263}. Best is trial 4 with value: 0.08621993762643054.\n",
      "/var/folders/39/pg899vtj5774718bjd1zhn6m0000gn/T/ipykernel_31246/2343508439.py:16: SettingWithCopyWarning: \n",
      "A value is trying to be set on a copy of a slice from a DataFrame.\n",
      "Try using .loc[row_indexer,col_indexer] = value instead\n",
      "\n",
      "See the caveats in the documentation: https://pandas.pydata.org/pandas-docs/stable/user_guide/indexing.html#returning-a-view-versus-a-copy\n",
      "  historic[\"buy_signal\"] = historic.rsi < rsi_lower\n",
      "/var/folders/39/pg899vtj5774718bjd1zhn6m0000gn/T/ipykernel_31246/2343508439.py:17: SettingWithCopyWarning: \n",
      "A value is trying to be set on a copy of a slice from a DataFrame.\n",
      "Try using .loc[row_indexer,col_indexer] = value instead\n",
      "\n",
      "See the caveats in the documentation: https://pandas.pydata.org/pandas-docs/stable/user_guide/indexing.html#returning-a-view-versus-a-copy\n",
      "  historic[\"sell_signal\"] = historic.rsi > rsi_upper\n",
      "[I 2025-09-12 07:41:33,795] Trial 6 finished with value: -0.3480518373294291 and parameters: {'rsi_window': 39, 'rsi_lower': 32, 'rsi_upper': 72, 'stop_loss': 0.06563779520080346, 'take_profit': 0.07652443055919803, 'n_shares': 477}. Best is trial 4 with value: 0.08621993762643054.\n",
      "/var/folders/39/pg899vtj5774718bjd1zhn6m0000gn/T/ipykernel_31246/2343508439.py:16: SettingWithCopyWarning: \n",
      "A value is trying to be set on a copy of a slice from a DataFrame.\n",
      "Try using .loc[row_indexer,col_indexer] = value instead\n",
      "\n",
      "See the caveats in the documentation: https://pandas.pydata.org/pandas-docs/stable/user_guide/indexing.html#returning-a-view-versus-a-copy\n",
      "  historic[\"buy_signal\"] = historic.rsi < rsi_lower\n",
      "/var/folders/39/pg899vtj5774718bjd1zhn6m0000gn/T/ipykernel_31246/2343508439.py:17: SettingWithCopyWarning: \n",
      "A value is trying to be set on a copy of a slice from a DataFrame.\n",
      "Try using .loc[row_indexer,col_indexer] = value instead\n",
      "\n",
      "See the caveats in the documentation: https://pandas.pydata.org/pandas-docs/stable/user_guide/indexing.html#returning-a-view-versus-a-copy\n",
      "  historic[\"sell_signal\"] = historic.rsi > rsi_upper\n",
      "[I 2025-09-12 07:41:34,680] Trial 7 finished with value: 0.04178333443284021 and parameters: {'rsi_window': 30, 'rsi_lower': 25, 'rsi_upper': 94, 'stop_loss': 0.10411720647334059, 'take_profit': 0.019951933719043614, 'n_shares': 297}. Best is trial 4 with value: 0.08621993762643054.\n",
      "/var/folders/39/pg899vtj5774718bjd1zhn6m0000gn/T/ipykernel_31246/2343508439.py:16: SettingWithCopyWarning: \n",
      "A value is trying to be set on a copy of a slice from a DataFrame.\n",
      "Try using .loc[row_indexer,col_indexer] = value instead\n",
      "\n",
      "See the caveats in the documentation: https://pandas.pydata.org/pandas-docs/stable/user_guide/indexing.html#returning-a-view-versus-a-copy\n",
      "  historic[\"buy_signal\"] = historic.rsi < rsi_lower\n",
      "/var/folders/39/pg899vtj5774718bjd1zhn6m0000gn/T/ipykernel_31246/2343508439.py:17: SettingWithCopyWarning: \n",
      "A value is trying to be set on a copy of a slice from a DataFrame.\n",
      "Try using .loc[row_indexer,col_indexer] = value instead\n",
      "\n",
      "See the caveats in the documentation: https://pandas.pydata.org/pandas-docs/stable/user_guide/indexing.html#returning-a-view-versus-a-copy\n",
      "  historic[\"sell_signal\"] = historic.rsi > rsi_upper\n",
      "[I 2025-09-12 07:41:35,561] Trial 8 finished with value: -0.013912229181092473 and parameters: {'rsi_window': 38, 'rsi_lower': 27, 'rsi_upper': 91, 'stop_loss': 0.02506283713280883, 'take_profit': 0.1484393560174138, 'n_shares': 117}. Best is trial 4 with value: 0.08621993762643054.\n",
      "/var/folders/39/pg899vtj5774718bjd1zhn6m0000gn/T/ipykernel_31246/2343508439.py:16: SettingWithCopyWarning: \n",
      "A value is trying to be set on a copy of a slice from a DataFrame.\n",
      "Try using .loc[row_indexer,col_indexer] = value instead\n",
      "\n",
      "See the caveats in the documentation: https://pandas.pydata.org/pandas-docs/stable/user_guide/indexing.html#returning-a-view-versus-a-copy\n",
      "  historic[\"buy_signal\"] = historic.rsi < rsi_lower\n",
      "/var/folders/39/pg899vtj5774718bjd1zhn6m0000gn/T/ipykernel_31246/2343508439.py:17: SettingWithCopyWarning: \n",
      "A value is trying to be set on a copy of a slice from a DataFrame.\n",
      "Try using .loc[row_indexer,col_indexer] = value instead\n",
      "\n",
      "See the caveats in the documentation: https://pandas.pydata.org/pandas-docs/stable/user_guide/indexing.html#returning-a-view-versus-a-copy\n",
      "  historic[\"sell_signal\"] = historic.rsi > rsi_upper\n",
      "[I 2025-09-12 07:41:39,153] Trial 9 finished with value: -0.9833149258673046 and parameters: {'rsi_window': 15, 'rsi_lower': 34, 'rsi_upper': 73, 'stop_loss': 0.0674045473752192, 'take_profit': 0.1416776578131139, 'n_shares': 334}. Best is trial 4 with value: 0.08621993762643054.\n"
     ]
    }
   ],
   "source": [
    "study = optuna.create_study(direction=\"maximize\")\n",
    "study.optimize(lambda trial: backtest(data, trial), n_trials=10)"
   ]
  },
  {
   "cell_type": "code",
   "execution_count": 19,
   "id": "a9a459b2",
   "metadata": {},
   "outputs": [
    {
     "data": {
      "text/plain": [
       "{'rsi_window': 24,\n",
       " 'rsi_lower': 19,\n",
       " 'rsi_upper': 68,\n",
       " 'stop_loss': 0.13239067858483725,\n",
       " 'take_profit': 0.06493924980913501,\n",
       " 'n_shares': 311}"
      ]
     },
     "execution_count": 19,
     "metadata": {},
     "output_type": "execute_result"
    }
   ],
   "source": [
    "study.best_params"
   ]
  },
  {
   "cell_type": "code",
   "execution_count": 20,
   "id": "b88bd3ff",
   "metadata": {},
   "outputs": [
    {
     "data": {
      "text/plain": [
       "0.08621993762643054"
      ]
     },
     "execution_count": 20,
     "metadata": {},
     "output_type": "execute_result"
    }
   ],
   "source": [
    "study.best_value"
   ]
  },
  {
   "cell_type": "code",
   "execution_count": null,
   "id": "a3d1403b",
   "metadata": {},
   "outputs": [
    {
     "data": {
      "text/plain": [
       "(1175409.6117202505, 0)"
      ]
     },
     "execution_count": 74,
     "metadata": {},
     "output_type": "execute_result"
    }
   ],
   "source": [
    "cash, len(active_long_positions)"
   ]
  }
 ],
 "metadata": {
  "kernelspec": {
   "display_name": "Python 3",
   "language": "python",
   "name": "python3"
  },
  "language_info": {
   "codemirror_mode": {
    "name": "ipython",
    "version": 3
   },
   "file_extension": ".py",
   "mimetype": "text/x-python",
   "name": "python",
   "nbconvert_exporter": "python",
   "pygments_lexer": "ipython3",
   "version": "3.9.6"
  }
 },
 "nbformat": 4,
 "nbformat_minor": 5
}
